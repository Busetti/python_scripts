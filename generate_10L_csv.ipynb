{
  "nbformat": 4,
  "nbformat_minor": 0,
  "metadata": {
    "colab": {
      "provenance": []
    },
    "kernelspec": {
      "name": "python3",
      "display_name": "Python 3"
    },
    "language_info": {
      "name": "python"
    }
  },
  "cells": [
    {
      "cell_type": "code",
      "execution_count": 1,
      "metadata": {
        "colab": {
          "base_uri": "https://localhost:8080/"
        },
        "id": "LjJ0r51oBBZG",
        "outputId": "7157299b-ce54-439a-e5dc-019bc2ada642"
      },
      "outputs": [
        {
          "output_type": "stream",
          "name": "stdout",
          "text": [
            "CSV file 'warranty_data_10L.csv' with 1000000 records generated successfully.\n"
          ]
        }
      ],
      "source": [
        "import csv\n",
        "import random\n",
        "from datetime import datetime, timedelta\n",
        "\n",
        "# Function to generate random warranty start dates\n",
        "def generate_random_date(start_date=\"2020-01-01\", end_date=\"2024-12-31\"):\n",
        "    start = datetime.strptime(start_date, \"%Y-%m-%d\")\n",
        "    end = datetime.strptime(end_date, \"%Y-%m-%d\")\n",
        "    delta = end - start\n",
        "    random_days = random.randint(0, delta.days)\n",
        "    return (start + timedelta(days=random_days)).strftime(\"%Y-%m-%d\")\n",
        "\n",
        "# Function to generate random order and item numbers\n",
        "def generate_random_order_item():\n",
        "    order_number = f\"ORD{random.randint(1000000, 9999999)}\"\n",
        "    item_number = f\"ITEM{random.randint(1000, 9999)}\"\n",
        "    return order_number, item_number\n",
        "\n",
        "# Create the CSV file with 10L records\n",
        "file_name = \"warranty_data_10L.csv\"\n",
        "num_records = 1000000\n",
        "\n",
        "# Open the CSV file to write\n",
        "with open(file_name, mode=\"w\", newline=\"\") as file:\n",
        "    writer = csv.writer(file)\n",
        "    writer.writerow([\"orderNumber\", \"itemNumber\", \"warrantyInDays\", \"warrantyStartDate\"])  # Write header\n",
        "\n",
        "    # Write records\n",
        "    for _ in range(num_records):\n",
        "        order_number, item_number = generate_random_order_item()\n",
        "        warranty_in_days = random.randint(30, 3650)  # Warranty between 30 days and 10 years\n",
        "        warranty_start_date = generate_random_date()\n",
        "        writer.writerow([order_number, item_number, warranty_in_days, warranty_start_date])\n",
        "\n",
        "print(f\"CSV file '{file_name}' with {num_records} records generated successfully.\")\n"
      ]
    }
  ]
}